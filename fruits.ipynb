{
 "cells": [
  {
   "cell_type": "code",
   "execution_count": 6,
   "id": "463f9acb",
   "metadata": {},
   "outputs": [],
   "source": [
    "import pandas as pd\n",
    "import selenium\n",
    "from selenium import webdriver\n",
    "import time\n",
    "from time import sleep\n",
    "import requests\n",
    "import warnings\n",
    "warnings.filterwarnings(\"ignore\")"
   ]
  },
  {
   "cell_type": "code",
   "execution_count": 7,
   "id": "4e81aa21",
   "metadata": {},
   "outputs": [],
   "source": [
    "driver=webdriver.Chrome(r\"C:\\Users\\Ramesh\\Desktop\\Internship 27\\driver\\chromedriver.exe\")"
   ]
  },
  {
   "cell_type": "code",
   "execution_count": 8,
   "id": "460e81cf",
   "metadata": {},
   "outputs": [],
   "source": [
    "drivedriver=webdriver.Chrome(\"chromedriver.exe\")"
   ]
  },
  {
   "cell_type": "code",
   "execution_count": 9,
   "id": "c9c78b10",
   "metadata": {},
   "outputs": [],
   "source": [
    "driver.get('https://www.google.co.in/imghp?hl=en&ogbl')"
   ]
  },
  {
   "cell_type": "code",
   "execution_count": 10,
   "id": "a1aee9ef",
   "metadata": {},
   "outputs": [],
   "source": [
    "input_search=driver.find_element_by_xpath(\"//input[@class='gLFyf gsfi']\")\n",
    "search_button=driver.find_element_by_xpath(\"//span[@class='z1asCe MZy1Rb']\")"
   ]
  },
  {
   "cell_type": "code",
   "execution_count": 11,
   "id": "6ac03e3d",
   "metadata": {},
   "outputs": [],
   "source": [
    "input_search.send_keys(\"fruits\")\n",
    "search_button.click()"
   ]
  },
  {
   "cell_type": "code",
   "execution_count": 12,
   "id": "7afca712",
   "metadata": {},
   "outputs": [],
   "source": [
    "images_fruit=[]\n",
    "elements=driver.find_elements_by_xpath(\"//img[@class='rg_i Q4LuWd']\")\n",
    "for i in elements:\n",
    "    src = driver.find_element_by_css_selector(\"img\").get_attribute(\"src\")\n",
    "    images_fruit.append(src) "
   ]
  },
  {
   "cell_type": "code",
   "execution_count": 13,
   "id": "24fa12b9",
   "metadata": {},
   "outputs": [
    {
     "name": "stdout",
     "output_type": "stream",
     "text": [
      "this is the file name:light_thumbnail2.png\n",
      "this is the file name:light_thumbnail2.png\n",
      "this is the file name:light_thumbnail2.png\n",
      "this is the file name:light_thumbnail2.png\n",
      "this is the file name:light_thumbnail2.png\n",
      "this is the file name:light_thumbnail2.png\n",
      "this is the file name:light_thumbnail2.png\n",
      "this is the file name:light_thumbnail2.png\n",
      "this is the file name:light_thumbnail2.png\n",
      "this is the file name:light_thumbnail2.png\n",
      "this is the file name:light_thumbnail2.png\n",
      "this is the file name:light_thumbnail2.png\n",
      "this is the file name:light_thumbnail2.png\n",
      "this is the file name:light_thumbnail2.png\n",
      "this is the file name:light_thumbnail2.png\n",
      "this is the file name:light_thumbnail2.png\n",
      "this is the file name:light_thumbnail2.png\n",
      "this is the file name:light_thumbnail2.png\n",
      "this is the file name:light_thumbnail2.png\n",
      "this is the file name:light_thumbnail2.png\n",
      "this is the file name:light_thumbnail2.png\n",
      "this is the file name:light_thumbnail2.png\n",
      "this is the file name:light_thumbnail2.png\n",
      "this is the file name:light_thumbnail2.png\n",
      "this is the file name:light_thumbnail2.png\n",
      "this is the file name:light_thumbnail2.png\n",
      "this is the file name:light_thumbnail2.png\n",
      "this is the file name:light_thumbnail2.png\n",
      "this is the file name:light_thumbnail2.png\n",
      "this is the file name:light_thumbnail2.png\n",
      "this is the file name:light_thumbnail2.png\n",
      "this is the file name:light_thumbnail2.png\n",
      "this is the file name:light_thumbnail2.png\n",
      "this is the file name:light_thumbnail2.png\n",
      "this is the file name:light_thumbnail2.png\n",
      "this is the file name:light_thumbnail2.png\n",
      "this is the file name:light_thumbnail2.png\n",
      "this is the file name:light_thumbnail2.png\n",
      "this is the file name:light_thumbnail2.png\n",
      "this is the file name:light_thumbnail2.png\n",
      "this is the file name:light_thumbnail2.png\n",
      "this is the file name:light_thumbnail2.png\n",
      "this is the file name:light_thumbnail2.png\n",
      "this is the file name:light_thumbnail2.png\n",
      "this is the file name:light_thumbnail2.png\n",
      "this is the file name:light_thumbnail2.png\n",
      "this is the file name:light_thumbnail2.png\n",
      "this is the file name:light_thumbnail2.png\n"
     ]
    }
   ],
   "source": [
    "for img in images_fruit:\n",
    "    file_name=img.split('/')[-1]\n",
    "    print(f\"this is the file name:{file_name}\")\n",
    "    r=requests.get(img,stream=True)\n",
    "    if r.status_code==200:\n",
    "        with open(file_name,'wb')as f:\n",
    "            for chunk in r:\n",
    "                f.write(chunk)"
   ]
  },
  {
   "cell_type": "code",
   "execution_count": null,
   "id": "90e91f31",
   "metadata": {},
   "outputs": [],
   "source": []
  }
 ],
 "metadata": {
  "kernelspec": {
   "display_name": "Python 3 (ipykernel)",
   "language": "python",
   "name": "python3"
  },
  "language_info": {
   "codemirror_mode": {
    "name": "ipython",
    "version": 3
   },
   "file_extension": ".py",
   "mimetype": "text/x-python",
   "name": "python",
   "nbconvert_exporter": "python",
   "pygments_lexer": "ipython3",
   "version": "3.9.7"
  }
 },
 "nbformat": 4,
 "nbformat_minor": 5
}
