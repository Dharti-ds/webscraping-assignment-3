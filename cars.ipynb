{
 "cells": [
  {
   "cell_type": "code",
   "execution_count": 17,
   "id": "61894647",
   "metadata": {},
   "outputs": [],
   "source": [
    "import pandas as pd\n",
    "import selenium\n",
    "from selenium import webdriver\n",
    "import time\n",
    "from time import sleep\n",
    "import requests\n",
    "import warnings\n",
    "warnings.filterwarnings(\"ignore\")"
   ]
  },
  {
   "cell_type": "code",
   "execution_count": 18,
   "id": "3e527093",
   "metadata": {},
   "outputs": [],
   "source": [
    "driver=webdriver.Chrome(r\"C:\\Users\\Ramesh\\Desktop\\Internship 27\\driver\\chromedriver.exe\")"
   ]
  },
  {
   "cell_type": "code",
   "execution_count": 19,
   "id": "5ab24f7f",
   "metadata": {},
   "outputs": [],
   "source": [
    "drivedriver=webdriver.Chrome(\"chromedriver.exe\")"
   ]
  },
  {
   "cell_type": "code",
   "execution_count": 20,
   "id": "d0759492",
   "metadata": {},
   "outputs": [],
   "source": [
    "driver.get('https://www.google.co.in/imghp?hl=en&ogbl')"
   ]
  },
  {
   "cell_type": "code",
   "execution_count": 21,
   "id": "0a5ab956",
   "metadata": {},
   "outputs": [],
   "source": [
    "input_search=driver.find_element_by_xpath(\"//input[@class='gLFyf gsfi']\")\n",
    "search_button=driver.find_element_by_xpath(\"//span[@class='z1asCe MZy1Rb']\")"
   ]
  },
  {
   "cell_type": "code",
   "execution_count": 22,
   "id": "ee90e5fa",
   "metadata": {},
   "outputs": [],
   "source": [
    "input_search.send_keys(\"cars\")\n",
    "search_button.click()"
   ]
  },
  {
   "cell_type": "code",
   "execution_count": 24,
   "id": "95c35994",
   "metadata": {},
   "outputs": [],
   "source": [
    "images_car=[]\n",
    "elements=driver.find_elements_by_xpath(\"//img[@class='rg_i Q4LuWd']\")\n",
    "for i in elements:\n",
    "    src = driver.find_element_by_css_selector(\"img\").get_attribute(\"src\")\n",
    "    images_car.append(src)"
   ]
  },
  {
   "cell_type": "code",
   "execution_count": 25,
   "id": "61944a32",
   "metadata": {},
   "outputs": [
    {
     "name": "stdout",
     "output_type": "stream",
     "text": [
      "this is the file name:spin-24.gif\n",
      "this is the file name:spin-24.gif\n",
      "this is the file name:spin-24.gif\n",
      "this is the file name:spin-24.gif\n",
      "this is the file name:spin-24.gif\n",
      "this is the file name:spin-24.gif\n",
      "this is the file name:spin-24.gif\n",
      "this is the file name:spin-24.gif\n",
      "this is the file name:spin-24.gif\n",
      "this is the file name:spin-24.gif\n",
      "this is the file name:spin-24.gif\n",
      "this is the file name:spin-24.gif\n",
      "this is the file name:spin-24.gif\n",
      "this is the file name:spin-24.gif\n",
      "this is the file name:spin-24.gif\n",
      "this is the file name:spin-24.gif\n",
      "this is the file name:spin-24.gif\n",
      "this is the file name:spin-24.gif\n",
      "this is the file name:spin-24.gif\n",
      "this is the file name:spin-24.gif\n",
      "this is the file name:spin-24.gif\n",
      "this is the file name:spin-24.gif\n",
      "this is the file name:spin-24.gif\n",
      "this is the file name:spin-24.gif\n",
      "this is the file name:spin-24.gif\n",
      "this is the file name:spin-24.gif\n",
      "this is the file name:spin-24.gif\n",
      "this is the file name:spin-24.gif\n",
      "this is the file name:spin-24.gif\n",
      "this is the file name:spin-24.gif\n",
      "this is the file name:spin-24.gif\n",
      "this is the file name:spin-24.gif\n",
      "this is the file name:spin-24.gif\n",
      "this is the file name:spin-24.gif\n",
      "this is the file name:spin-24.gif\n",
      "this is the file name:spin-24.gif\n",
      "this is the file name:spin-24.gif\n",
      "this is the file name:spin-24.gif\n",
      "this is the file name:spin-24.gif\n",
      "this is the file name:spin-24.gif\n",
      "this is the file name:spin-24.gif\n",
      "this is the file name:spin-24.gif\n",
      "this is the file name:spin-24.gif\n",
      "this is the file name:spin-24.gif\n",
      "this is the file name:spin-24.gif\n",
      "this is the file name:spin-24.gif\n",
      "this is the file name:spin-24.gif\n",
      "this is the file name:spin-24.gif\n"
     ]
    }
   ],
   "source": [
    "for img in images_car:\n",
    "    file_name=img.split('/')[-1]\n",
    "    print(f\"this is the file name:{file_name}\")\n",
    "    r=requests.get(img,stream=True)\n",
    "    if r.status_code==200:\n",
    "        with open(file_name,'wb')as f:\n",
    "            for chunk in r:\n",
    "                f.write(chunk)"
   ]
  },
  {
   "cell_type": "code",
   "execution_count": null,
   "id": "9757367c",
   "metadata": {},
   "outputs": [],
   "source": []
  }
 ],
 "metadata": {
  "kernelspec": {
   "display_name": "Python 3 (ipykernel)",
   "language": "python",
   "name": "python3"
  },
  "language_info": {
   "codemirror_mode": {
    "name": "ipython",
    "version": 3
   },
   "file_extension": ".py",
   "mimetype": "text/x-python",
   "name": "python",
   "nbconvert_exporter": "python",
   "pygments_lexer": "ipython3",
   "version": "3.9.7"
  }
 },
 "nbformat": 4,
 "nbformat_minor": 5
}
