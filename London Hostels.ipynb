{
 "cells": [
  {
   "cell_type": "code",
   "execution_count": 40,
   "id": "fea2f850",
   "metadata": {},
   "outputs": [],
   "source": [
    "import selenium\n",
    "import pandas as pd\n",
    "from selenium import webdriver\n",
    "import warnings\n",
    "warnings.filterwarnings(\"ignore\")\n",
    "import time\n",
    "from time import sleep\n",
    "import requests"
   ]
  },
  {
   "cell_type": "code",
   "execution_count": 41,
   "id": "f809f58e",
   "metadata": {},
   "outputs": [],
   "source": [
    "driver=webdriver.Chrome(r\"C:\\Users\\Ramesh\\Desktop\\Internship 27\\driver\\chromedriver.exe\")"
   ]
  },
  {
   "cell_type": "code",
   "execution_count": 42,
   "id": "518d54fa",
   "metadata": {},
   "outputs": [],
   "source": [
    "driver=webdriver.Chrome(\"chromedriver.exe\")"
   ]
  },
  {
   "cell_type": "code",
   "execution_count": 43,
   "id": "b6777675",
   "metadata": {},
   "outputs": [],
   "source": [
    "driver.get('https://www.hostelworld.com/in')"
   ]
  },
  {
   "cell_type": "code",
   "execution_count": 44,
   "id": "fabf97d4",
   "metadata": {},
   "outputs": [],
   "source": [
    "input_search=driver.find_element_by_id('home-search-keywords')\n",
    "search_button=driver.find_element_by_xpath(\"//button[@type='submit']\")"
   ]
  },
  {
   "cell_type": "code",
   "execution_count": null,
   "id": "e8da50ae",
   "metadata": {},
   "outputs": [],
   "source": [
    "input_search.send_keys(\"london\")\n",
    "sleep(1)\n",
    "search_button.click()"
   ]
  },
  {
   "cell_type": "code",
   "execution_count": 46,
   "id": "d8fb164c",
   "metadata": {},
   "outputs": [],
   "source": [
    "names=[]\n",
    "for i in names:\n",
    "    print('Scraping names',i+1)\n",
    "    name=driver.find_element_by_xpath=(\"//a[href]\")\n",
    "    for p in name:\n",
    "        names.append(p)\n",
    "        sleep(3)   "
   ]
  },
  {
   "cell_type": "code",
   "execution_count": 47,
   "id": "b7436821",
   "metadata": {},
   "outputs": [],
   "source": [
    "distances=[]\n",
    "for i in distances:\n",
    "    print('Scraping distances',i+1)\n",
    "    distance=driver.find_element_by_xpath=(\"//span[@class='description']\")\n",
    "    for d in distances:\n",
    "        distances.append(d)\n",
    "        sleep(3)"
   ]
  },
  {
   "cell_type": "code",
   "execution_count": null,
   "id": "194d2687",
   "metadata": {},
   "outputs": [],
   "source": []
  }
 ],
 "metadata": {
  "kernelspec": {
   "display_name": "Python 3 (ipykernel)",
   "language": "python",
   "name": "python3"
  },
  "language_info": {
   "codemirror_mode": {
    "name": "ipython",
    "version": 3
   },
   "file_extension": ".py",
   "mimetype": "text/x-python",
   "name": "python",
   "nbconvert_exporter": "python",
   "pygments_lexer": "ipython3",
   "version": "3.9.7"
  }
 },
 "nbformat": 4,
 "nbformat_minor": 5
}
